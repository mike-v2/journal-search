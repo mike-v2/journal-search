{
 "cells": [
  {
   "cell_type": "code",
   "execution_count": 5,
   "id": "25d421a6",
   "metadata": {},
   "outputs": [
    {
     "name": "stdout",
     "output_type": "stream",
     "text": [
      "True\n"
     ]
    }
   ],
   "source": [
    "import os\n",
    "\n",
    "current_year = '1945'\n",
    "home_path = os.path.expanduser('~')\n",
    "journals_path = os.path.join(home_path, 'Documents/Harry_Howard_Journal')\n",
    "input_file = os.path.join(journals_path, f'{current_year}/{current_year}-entries.json')\n",
    "embeddings_file = os.path.join(journals_path, 'journal-entries-with-embeddings.csv')\n",
    "\n",
    "print(os.path.exists(embeddings_file))"
   ]
  },
  {
   "cell_type": "code",
   "execution_count": 2,
   "id": "47952b84",
   "metadata": {},
   "outputs": [],
   "source": [
    "import os\n",
    "import pandas as pd\n",
    "import tiktoken\n",
    "\n",
    "from openai.embeddings_utils import get_embedding\n",
    "import openai\n",
    "openai.api_key = os.environ.get('OPENAI_API_KEY')"
   ]
  },
  {
   "cell_type": "code",
   "execution_count": 10,
   "id": "c79cde7e",
   "metadata": {},
   "outputs": [],
   "source": [
    "# embedding model parameters\n",
    "embedding_model = \"text-embedding-ada-002\"\n",
    "embedding_encoding = \"cl100k_base\"  # this the encoding for text-embedding-ada-002\n",
    "max_tokens = 8000  # the maximum for text-embedding-ada-002 is 8191"
   ]
  },
  {
   "cell_type": "code",
   "execution_count": 11,
   "id": "0e3eb27e",
   "metadata": {},
   "outputs": [
    {
     "data": {
      "text/html": [
       "<div>\n",
       "<style scoped>\n",
       "    .dataframe tbody tr th:only-of-type {\n",
       "        vertical-align: middle;\n",
       "    }\n",
       "\n",
       "    .dataframe tbody tr th {\n",
       "        vertical-align: top;\n",
       "    }\n",
       "\n",
       "    .dataframe thead th {\n",
       "        text-align: right;\n",
       "    }\n",
       "</style>\n",
       "<table border=\"1\" class=\"dataframe\">\n",
       "  <thead>\n",
       "    <tr style=\"text-align: right;\">\n",
       "      <th></th>\n",
       "      <th>date</th>\n",
       "      <th>content</th>\n",
       "      <th>combined</th>\n",
       "    </tr>\n",
       "  </thead>\n",
       "  <tbody>\n",
       "    <tr>\n",
       "      <th>0</th>\n",
       "      <td>1945-01-02</td>\n",
       "      <td>1945 was ushered in here in the state of Utah ...</td>\n",
       "      <td>Date: 1945-01-02; Text: 1945 was ushered in he...</td>\n",
       "    </tr>\n",
       "    <tr>\n",
       "      <th>1</th>\n",
       "      <td>1945-01-03</td>\n",
       "      <td>Learned this A.M. from Harold Dent that the PB...</td>\n",
       "      <td>Date: 1945-01-03; Text: Learned this A.M. from...</td>\n",
       "    </tr>\n",
       "    <tr>\n",
       "      <th>2</th>\n",
       "      <td>1945-01-04</td>\n",
       "      <td>My heart worries me. I am sure it is causing t...</td>\n",
       "      <td>Date: 1945-01-04; Text: My heart worries me. I...</td>\n",
       "    </tr>\n",
       "  </tbody>\n",
       "</table>\n",
       "</div>"
      ],
      "text/plain": [
       "        date                                            content  \\\n",
       "0 1945-01-02  1945 was ushered in here in the state of Utah ...   \n",
       "1 1945-01-03  Learned this A.M. from Harold Dent that the PB...   \n",
       "2 1945-01-04  My heart worries me. I am sure it is causing t...   \n",
       "\n",
       "                                            combined  \n",
       "0  Date: 1945-01-02; Text: 1945 was ushered in he...  \n",
       "1  Date: 1945-01-03; Text: Learned this A.M. from...  \n",
       "2  Date: 1945-01-04; Text: My heart worries me. I...  "
      ]
     },
     "execution_count": 11,
     "metadata": {},
     "output_type": "execute_result"
    }
   ],
   "source": [
    "# load & inspect dataset\n",
    "df = pd.read_json(input_file)\n",
    "df = df[['date', 'content']]\n",
    "df = df.dropna()\n",
    "df['combined'] = \"Date: \" + df['date'].astype(str).str.strip() + \"; Text: \" + df['content'].str.strip()\n",
    "\n",
    "df.head(3)\n"
   ]
  },
  {
   "cell_type": "code",
   "execution_count": 12,
   "id": "0ca19a19",
   "metadata": {},
   "outputs": [
    {
     "name": "stdout",
     "output_type": "stream",
     "text": [
      "removed 0\n"
     ]
    }
   ],
   "source": [
    "encoding = tiktoken.get_encoding(embedding_encoding)\n",
    "\n",
    "# omit reviews that are too long to embed\n",
    "start_count = len(df)\n",
    "\n",
    "df[\"n_tokens\"] = df.combined.apply(lambda x: len(encoding.encode(x)))\n",
    "df = df[df.n_tokens <= max_tokens]\n",
    "\n",
    "removed = start_count - len(df)\n",
    "print(f'removed {removed}')"
   ]
  },
  {
   "cell_type": "code",
   "execution_count": 13,
   "id": "075c9e04",
   "metadata": {},
   "outputs": [
    {
     "name": "stdout",
     "output_type": "stream",
     "text": [
      "adding 180 embeddings\n"
     ]
    }
   ],
   "source": [
    "df[\"embedding\"] = df.combined.apply(lambda x: get_embedding(x, engine=embedding_model))\n",
    "print(f'adding {len(df)} embeddings')\n",
    "df.to_csv(embeddings_file, mode='a', header=False, index=False)    # append mode\n"
   ]
  },
  {
   "cell_type": "code",
   "execution_count": 8,
   "id": "3ee21792",
   "metadata": {},
   "outputs": [
    {
     "name": "stdout",
     "output_type": "stream",
     "text": [
      "Found 485 values\n"
     ]
    }
   ],
   "source": [
    "input_file = os.path.join(journals_path, f'{current_year}/{current_year}-analysis.json')\n",
    "\n",
    "count_df = pd.read_json(input_file)\n",
    "\n",
    "print(f'Found {len(count_df)} values')"
   ]
  },
  {
   "cell_type": "code",
   "execution_count": null,
   "id": "832cab06",
   "metadata": {},
   "outputs": [],
   "source": []
  }
 ],
 "metadata": {
  "kernelspec": {
   "display_name": "env",
   "language": "python",
   "name": "python3"
  },
  "language_info": {
   "codemirror_mode": {
    "name": "ipython",
    "version": 3
   },
   "file_extension": ".py",
   "mimetype": "text/x-python",
   "name": "python",
   "nbconvert_exporter": "python",
   "pygments_lexer": "ipython3",
   "version": "3.10.6"
  }
 },
 "nbformat": 4,
 "nbformat_minor": 5
}
