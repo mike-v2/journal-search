{
 "cells": [
  {
   "cell_type": "code",
   "execution_count": 1,
   "id": "25d421a6",
   "metadata": {},
   "outputs": [
    {
     "name": "stdout",
     "output_type": "stream",
     "text": [
      "False\n"
     ]
    }
   ],
   "source": [
    "import os\n",
    "\n",
    "current_year = '1946'\n",
    "journals_path = '~/Documents/Harry_Howard_Journal'\n",
    "input_file = os.path.join(journals_path, f'{current_year}/{current_year}-entries.json')\n",
    "embeddings_file = os.path.join(journals_path, 'journal-entries-with-embeddings.csv')\n",
    "print(os.path.exists(embeddings_file))"
   ]
  },
  {
   "cell_type": "code",
   "execution_count": 2,
   "id": "47952b84",
   "metadata": {},
   "outputs": [],
   "source": [
    "import os\n",
    "import pandas as pd\n",
    "import tiktoken\n",
    "\n",
    "from openai.embeddings_utils import get_embedding\n",
    "import openai\n",
    "openai.api_key = os.environ.get('OPENAI_API_KEY')"
   ]
  },
  {
   "cell_type": "code",
   "execution_count": 3,
   "id": "c79cde7e",
   "metadata": {},
   "outputs": [],
   "source": [
    "# embedding model parameters\n",
    "embedding_model = \"text-embedding-ada-002\"\n",
    "embedding_encoding = \"cl100k_base\"  # this the encoding for text-embedding-ada-002\n",
    "max_tokens = 8000  # the maximum for text-embedding-ada-002 is 8191"
   ]
  },
  {
   "cell_type": "code",
   "execution_count": 4,
   "id": "0e3eb27e",
   "metadata": {},
   "outputs": [
    {
     "data": {
      "text/html": [
       "<div>\n",
       "<style scoped>\n",
       "    .dataframe tbody tr th:only-of-type {\n",
       "        vertical-align: middle;\n",
       "    }\n",
       "\n",
       "    .dataframe tbody tr th {\n",
       "        vertical-align: top;\n",
       "    }\n",
       "\n",
       "    .dataframe thead th {\n",
       "        text-align: right;\n",
       "    }\n",
       "</style>\n",
       "<table border=\"1\" class=\"dataframe\">\n",
       "  <thead>\n",
       "    <tr style=\"text-align: right;\">\n",
       "      <th></th>\n",
       "      <th>date</th>\n",
       "      <th>content</th>\n",
       "      <th>combined</th>\n",
       "    </tr>\n",
       "  </thead>\n",
       "  <tbody>\n",
       "    <tr>\n",
       "      <th>0</th>\n",
       "      <td>1946-01-01</td>\n",
       "      <td>A new year dawns upon a torn and bleeding worl...</td>\n",
       "      <td>Date: 1946-01-01; Text: A new year dawns upon ...</td>\n",
       "    </tr>\n",
       "    <tr>\n",
       "      <th>1</th>\n",
       "      <td>1946-01-02</td>\n",
       "      <td>The biggest check I have ever drawn for 15 day...</td>\n",
       "      <td>Date: 1946-01-02; Text: The biggest check I ha...</td>\n",
       "    </tr>\n",
       "    <tr>\n",
       "      <th>2</th>\n",
       "      <td>1946-01-03</td>\n",
       "      <td>Our state, as a state, marks its 50th birthday...</td>\n",
       "      <td>Date: 1946-01-03; Text: Our state, as a state,...</td>\n",
       "    </tr>\n",
       "  </tbody>\n",
       "</table>\n",
       "</div>"
      ],
      "text/plain": [
       "        date                                            content  \\\n",
       "0 1946-01-01  A new year dawns upon a torn and bleeding worl...   \n",
       "1 1946-01-02  The biggest check I have ever drawn for 15 day...   \n",
       "2 1946-01-03  Our state, as a state, marks its 50th birthday...   \n",
       "\n",
       "                                            combined  \n",
       "0  Date: 1946-01-01; Text: A new year dawns upon ...  \n",
       "1  Date: 1946-01-02; Text: The biggest check I ha...  \n",
       "2  Date: 1946-01-03; Text: Our state, as a state,...  "
      ]
     },
     "execution_count": 4,
     "metadata": {},
     "output_type": "execute_result"
    }
   ],
   "source": [
    "# load & inspect dataset\n",
    "df = pd.read_json(input_file)\n",
    "df = df[['date', 'content']]\n",
    "df = df.dropna()\n",
    "df['combined'] = \"Date: \" + df['date'].astype(str).str.strip() + \"; Text: \" + df['content'].str.strip()\n",
    "\n",
    "df.head(3)\n"
   ]
  },
  {
   "cell_type": "code",
   "execution_count": 5,
   "id": "0ca19a19",
   "metadata": {},
   "outputs": [
    {
     "name": "stdout",
     "output_type": "stream",
     "text": [
      "removed 0\n"
     ]
    }
   ],
   "source": [
    "encoding = tiktoken.get_encoding(embedding_encoding)\n",
    "\n",
    "# omit reviews that are too long to embed\n",
    "start_count = len(df)\n",
    "\n",
    "df[\"n_tokens\"] = df.combined.apply(lambda x: len(encoding.encode(x)))\n",
    "df = df[df.n_tokens <= max_tokens]\n",
    "\n",
    "removed = start_count - len(df)\n",
    "print(f'removed {removed}')"
   ]
  },
  {
   "cell_type": "code",
   "execution_count": 6,
   "id": "075c9e04",
   "metadata": {},
   "outputs": [],
   "source": [
    "df[\"embedding\"] = df.combined.apply(lambda x: get_embedding(x, engine=embedding_model))\n",
    "df.to_csv(embeddings_file, mode='a', header=False, index=False)    # append mode\n"
   ]
  },
  {
   "cell_type": "code",
   "execution_count": null,
   "id": "3ee21792",
   "metadata": {},
   "outputs": [],
   "source": []
  }
 ],
 "metadata": {
  "kernelspec": {
   "display_name": "env",
   "language": "python",
   "name": "python3"
  },
  "language_info": {
   "codemirror_mode": {
    "name": "ipython",
    "version": 3
   },
   "file_extension": ".py",
   "mimetype": "text/x-python",
   "name": "python",
   "nbconvert_exporter": "python",
   "pygments_lexer": "ipython3",
   "version": "3.10.6"
  }
 },
 "nbformat": 4,
 "nbformat_minor": 5
}
